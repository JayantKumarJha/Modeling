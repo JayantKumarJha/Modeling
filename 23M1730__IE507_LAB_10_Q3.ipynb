{
  "nbformat": 4,
  "nbformat_minor": 0,
  "metadata": {
    "colab": {
      "provenance": []
    },
    "kernelspec": {
      "name": "python3",
      "display_name": "Python 3"
    },
    "language_info": {
      "name": "python"
    }
  },
  "cells": [
    {
      "cell_type": "code",
      "execution_count": null,
      "metadata": {
        "id": "7CaLtO5FkB9c"
      },
      "outputs": [],
      "source": [
        "!pip install -q pyomo\n",
        "from pyomo.environ import *\n",
        "import  numpy as np"
      ]
    },
    {
      "cell_type": "code",
      "source": [
        "#Task2\n",
        "#Given Data\n",
        "warehouses = ['W1', 'W2', 'W3', 'W4', 'W5', 'W6', 'W7', 'W8']\n",
        "markets = ['M1', 'M2', 'M3', 'M4', 'M5', 'M6', 'M7', 'M8']\n",
        "inventory = {'W1': 185, 'W2': 350, 'W3': 405, 'W4': 280, 'W5': 105, 'W6': 75, 'W7': 425, 'W8': 270}\n",
        "demand = {'M1': 175, 'M2': 400, 'M3': 550, 'M4': 70, 'M5': 650, 'M6': 100, 'M7': 65, 'M8': 85}\n",
        "cost = {('W1', 'M1'): 627, ('W1', 'M2'): 617, ('W1', 'M3'): 1270, ('W1', 'M4'): 2072,\n",
        "        ('W1', 'M5'): 1415, ('W1', 'M6'): 2943, ('W1', 'M7'): 1064, ('W1', 'M8'): 4265,\n",
        "        ('W2', 'M1'): 159, ('W2', 'M2'): 1432, ('W2', 'M3'): 351, ('W2', 'M4'): 3372,\n",
        "        ('W2', 'M5'): 237, ('W2', 'M6'): 3373, ('W2', 'M7'): 1456, ('W2', 'M8'): 5059,\n",
        "        ('W3', 'M1'): 609, ('W3', 'M2'): 1943, ('W3', 'M3'): 77, ('W3', 'M4'): 3365,\n",
        "        ('W3', 'M5'): 298, ('W3', 'M6'): 3021, ('W3', 'M7'): 1484, ('W3', 'M8'): 4803,\n",
        "        ('W4', 'M1'): 2143, ('W4', 'M2'): 671, ('W4', 'M3'): 3876, ('W4', 'M4'): 537,\n",
        "        ('W4', 'M5'): 1902, ('W4', 'M6'): 1941, ('W4', 'M7'): 1682, ('W4', 'M8'): 3348,\n",
        "        ('W5', 'M1'): 2742, ('W5', 'M2'): 2089, ('W5', 'M3'): 1931, ('W5', 'M4'): 2199,\n",
        "        ('W5', 'M5'): 1226, ('W5', 'M6'): 739, ('W5', 'M7'): 691, ('W5', 'M8'): 1128,\n",
        "        ('W6', 'M1'): 2053, ('W6', 'M2'): 860, ('W6', 'M3'): 2995, ('W6', 'M4'): 68,\n",
        "        ('W6', 'M5'): 2069, ('W6', 'M6'): 2065, ('W6', 'M7'): 993, ('W6', 'M8'): 3342,\n",
        "        ('W7', 'M1'): 656, ('W7', 'M2'): 817, ('W7', 'M3'): 1245, ('W7', 'M4'): 2141,\n",
        "        ('W7', 'M5'): 1534, ('W7', 'M6'): 3351, ('W7', 'M7'): 1137, ('W7', 'M8'): 3887,\n",
        "        ('W8', 'M1'): 195, ('W8', 'M2'): 1862, ('W8', 'M3'): 1331, ('W8', 'M4'): 2921,\n",
        "        ('W8', 'M5'): 402, ('W8', 'M6'): 2825, ('W8', 'M7'): 563, ('W8', 'M8'): 4441}\n",
        "\n",
        "# Model\n",
        "model = ConcreteModel()\n",
        "\n",
        "# Decision variables\n",
        "model.x = Var(warehouses, markets, domain=NonNegativeIntegers)\n",
        "\n",
        "# Objective\n",
        "model.total_cost = Objective(expr=sum(cost[i, j] * model.x[i, j] for i in warehouses for j in markets), sense=minimize)\n",
        "\n",
        "# Constraints\n",
        "model.demand_constraint = ConstraintList()\n",
        "for j in markets:\n",
        "    model.demand_constraint.add(sum(model.x[i, j] for i in warehouses) >= demand[j])\n",
        "\n",
        "model.inventory_constraint = ConstraintList()\n",
        "for i in warehouses:\n",
        "    model.inventory_constraint.add(sum(model.x[i, j] for j in markets) <= inventory[i])\n",
        "\n",
        "model.pprint()\n",
        "\n"
      ],
      "metadata": {
        "colab": {
          "base_uri": "https://localhost:8080/"
        },
        "id": "ew4NNQfwqhti",
        "outputId": "cc176c0a-f7ba-4b85-b863-eb75e7f3059f"
      },
      "execution_count": null,
      "outputs": [
        {
          "output_type": "stream",
          "name": "stdout",
          "text": [
            "5 Set Declarations\n",
            "    demand_constraint_index : Size=1, Index=None, Ordered=Insertion\n",
            "        Key  : Dimen : Domain : Size : Members\n",
            "        None :     1 :    Any :    8 : {1, 2, 3, 4, 5, 6, 7, 8}\n",
            "    inventory_constraint_index : Size=1, Index=None, Ordered=Insertion\n",
            "        Key  : Dimen : Domain : Size : Members\n",
            "        None :     1 :    Any :    8 : {1, 2, 3, 4, 5, 6, 7, 8}\n",
            "    x_index : Size=1, Index=None, Ordered=True\n",
            "        Key  : Dimen : Domain              : Size : Members\n",
            "        None :     2 : x_index_0*x_index_1 :   64 : {('W1', 'M1'), ('W1', 'M2'), ('W1', 'M3'), ('W1', 'M4'), ('W1', 'M5'), ('W1', 'M6'), ('W1', 'M7'), ('W1', 'M8'), ('W2', 'M1'), ('W2', 'M2'), ('W2', 'M3'), ('W2', 'M4'), ('W2', 'M5'), ('W2', 'M6'), ('W2', 'M7'), ('W2', 'M8'), ('W3', 'M1'), ('W3', 'M2'), ('W3', 'M3'), ('W3', 'M4'), ('W3', 'M5'), ('W3', 'M6'), ('W3', 'M7'), ('W3', 'M8'), ('W4', 'M1'), ('W4', 'M2'), ('W4', 'M3'), ('W4', 'M4'), ('W4', 'M5'), ('W4', 'M6'), ('W4', 'M7'), ('W4', 'M8'), ('W5', 'M1'), ('W5', 'M2'), ('W5', 'M3'), ('W5', 'M4'), ('W5', 'M5'), ('W5', 'M6'), ('W5', 'M7'), ('W5', 'M8'), ('W6', 'M1'), ('W6', 'M2'), ('W6', 'M3'), ('W6', 'M4'), ('W6', 'M5'), ('W6', 'M6'), ('W6', 'M7'), ('W6', 'M8'), ('W7', 'M1'), ('W7', 'M2'), ('W7', 'M3'), ('W7', 'M4'), ('W7', 'M5'), ('W7', 'M6'), ('W7', 'M7'), ('W7', 'M8'), ('W8', 'M1'), ('W8', 'M2'), ('W8', 'M3'), ('W8', 'M4'), ('W8', 'M5'), ('W8', 'M6'), ('W8', 'M7'), ('W8', 'M8')}\n",
            "    x_index_0 : Size=1, Index=None, Ordered=Insertion\n",
            "        Key  : Dimen : Domain : Size : Members\n",
            "        None :     1 :    Any :    8 : {'W1', 'W2', 'W3', 'W4', 'W5', 'W6', 'W7', 'W8'}\n",
            "    x_index_1 : Size=1, Index=None, Ordered=Insertion\n",
            "        Key  : Dimen : Domain : Size : Members\n",
            "        None :     1 :    Any :    8 : {'M1', 'M2', 'M3', 'M4', 'M5', 'M6', 'M7', 'M8'}\n",
            "\n",
            "1 Var Declarations\n",
            "    x : Size=64, Index=x_index\n",
            "        Key          : Lower : Value : Upper : Fixed : Stale : Domain\n",
            "        ('W1', 'M1') :     0 :  None :  None : False :  True : NonNegativeIntegers\n",
            "        ('W1', 'M2') :     0 :  None :  None : False :  True : NonNegativeIntegers\n",
            "        ('W1', 'M3') :     0 :  None :  None : False :  True : NonNegativeIntegers\n",
            "        ('W1', 'M4') :     0 :  None :  None : False :  True : NonNegativeIntegers\n",
            "        ('W1', 'M5') :     0 :  None :  None : False :  True : NonNegativeIntegers\n",
            "        ('W1', 'M6') :     0 :  None :  None : False :  True : NonNegativeIntegers\n",
            "        ('W1', 'M7') :     0 :  None :  None : False :  True : NonNegativeIntegers\n",
            "        ('W1', 'M8') :     0 :  None :  None : False :  True : NonNegativeIntegers\n",
            "        ('W2', 'M1') :     0 :  None :  None : False :  True : NonNegativeIntegers\n",
            "        ('W2', 'M2') :     0 :  None :  None : False :  True : NonNegativeIntegers\n",
            "        ('W2', 'M3') :     0 :  None :  None : False :  True : NonNegativeIntegers\n",
            "        ('W2', 'M4') :     0 :  None :  None : False :  True : NonNegativeIntegers\n",
            "        ('W2', 'M5') :     0 :  None :  None : False :  True : NonNegativeIntegers\n",
            "        ('W2', 'M6') :     0 :  None :  None : False :  True : NonNegativeIntegers\n",
            "        ('W2', 'M7') :     0 :  None :  None : False :  True : NonNegativeIntegers\n",
            "        ('W2', 'M8') :     0 :  None :  None : False :  True : NonNegativeIntegers\n",
            "        ('W3', 'M1') :     0 :  None :  None : False :  True : NonNegativeIntegers\n",
            "        ('W3', 'M2') :     0 :  None :  None : False :  True : NonNegativeIntegers\n",
            "        ('W3', 'M3') :     0 :  None :  None : False :  True : NonNegativeIntegers\n",
            "        ('W3', 'M4') :     0 :  None :  None : False :  True : NonNegativeIntegers\n",
            "        ('W3', 'M5') :     0 :  None :  None : False :  True : NonNegativeIntegers\n",
            "        ('W3', 'M6') :     0 :  None :  None : False :  True : NonNegativeIntegers\n",
            "        ('W3', 'M7') :     0 :  None :  None : False :  True : NonNegativeIntegers\n",
            "        ('W3', 'M8') :     0 :  None :  None : False :  True : NonNegativeIntegers\n",
            "        ('W4', 'M1') :     0 :  None :  None : False :  True : NonNegativeIntegers\n",
            "        ('W4', 'M2') :     0 :  None :  None : False :  True : NonNegativeIntegers\n",
            "        ('W4', 'M3') :     0 :  None :  None : False :  True : NonNegativeIntegers\n",
            "        ('W4', 'M4') :     0 :  None :  None : False :  True : NonNegativeIntegers\n",
            "        ('W4', 'M5') :     0 :  None :  None : False :  True : NonNegativeIntegers\n",
            "        ('W4', 'M6') :     0 :  None :  None : False :  True : NonNegativeIntegers\n",
            "        ('W4', 'M7') :     0 :  None :  None : False :  True : NonNegativeIntegers\n",
            "        ('W4', 'M8') :     0 :  None :  None : False :  True : NonNegativeIntegers\n",
            "        ('W5', 'M1') :     0 :  None :  None : False :  True : NonNegativeIntegers\n",
            "        ('W5', 'M2') :     0 :  None :  None : False :  True : NonNegativeIntegers\n",
            "        ('W5', 'M3') :     0 :  None :  None : False :  True : NonNegativeIntegers\n",
            "        ('W5', 'M4') :     0 :  None :  None : False :  True : NonNegativeIntegers\n",
            "        ('W5', 'M5') :     0 :  None :  None : False :  True : NonNegativeIntegers\n",
            "        ('W5', 'M6') :     0 :  None :  None : False :  True : NonNegativeIntegers\n",
            "        ('W5', 'M7') :     0 :  None :  None : False :  True : NonNegativeIntegers\n",
            "        ('W5', 'M8') :     0 :  None :  None : False :  True : NonNegativeIntegers\n",
            "        ('W6', 'M1') :     0 :  None :  None : False :  True : NonNegativeIntegers\n",
            "        ('W6', 'M2') :     0 :  None :  None : False :  True : NonNegativeIntegers\n",
            "        ('W6', 'M3') :     0 :  None :  None : False :  True : NonNegativeIntegers\n",
            "        ('W6', 'M4') :     0 :  None :  None : False :  True : NonNegativeIntegers\n",
            "        ('W6', 'M5') :     0 :  None :  None : False :  True : NonNegativeIntegers\n",
            "        ('W6', 'M6') :     0 :  None :  None : False :  True : NonNegativeIntegers\n",
            "        ('W6', 'M7') :     0 :  None :  None : False :  True : NonNegativeIntegers\n",
            "        ('W6', 'M8') :     0 :  None :  None : False :  True : NonNegativeIntegers\n",
            "        ('W7', 'M1') :     0 :  None :  None : False :  True : NonNegativeIntegers\n",
            "        ('W7', 'M2') :     0 :  None :  None : False :  True : NonNegativeIntegers\n",
            "        ('W7', 'M3') :     0 :  None :  None : False :  True : NonNegativeIntegers\n",
            "        ('W7', 'M4') :     0 :  None :  None : False :  True : NonNegativeIntegers\n",
            "        ('W7', 'M5') :     0 :  None :  None : False :  True : NonNegativeIntegers\n",
            "        ('W7', 'M6') :     0 :  None :  None : False :  True : NonNegativeIntegers\n",
            "        ('W7', 'M7') :     0 :  None :  None : False :  True : NonNegativeIntegers\n",
            "        ('W7', 'M8') :     0 :  None :  None : False :  True : NonNegativeIntegers\n",
            "        ('W8', 'M1') :     0 :  None :  None : False :  True : NonNegativeIntegers\n",
            "        ('W8', 'M2') :     0 :  None :  None : False :  True : NonNegativeIntegers\n",
            "        ('W8', 'M3') :     0 :  None :  None : False :  True : NonNegativeIntegers\n",
            "        ('W8', 'M4') :     0 :  None :  None : False :  True : NonNegativeIntegers\n",
            "        ('W8', 'M5') :     0 :  None :  None : False :  True : NonNegativeIntegers\n",
            "        ('W8', 'M6') :     0 :  None :  None : False :  True : NonNegativeIntegers\n",
            "        ('W8', 'M7') :     0 :  None :  None : False :  True : NonNegativeIntegers\n",
            "        ('W8', 'M8') :     0 :  None :  None : False :  True : NonNegativeIntegers\n",
            "\n",
            "1 Objective Declarations\n",
            "    total_cost : Size=1, Index=None, Active=True\n",
            "        Key  : Active : Sense    : Expression\n",
            "        None :   True : minimize : 627*x[W1,M1] + 617*x[W1,M2] + 1270*x[W1,M3] + 2072*x[W1,M4] + 1415*x[W1,M5] + 2943*x[W1,M6] + 1064*x[W1,M7] + 4265*x[W1,M8] + 159*x[W2,M1] + 1432*x[W2,M2] + 351*x[W2,M3] + 3372*x[W2,M4] + 237*x[W2,M5] + 3373*x[W2,M6] + 1456*x[W2,M7] + 5059*x[W2,M8] + 609*x[W3,M1] + 1943*x[W3,M2] + 77*x[W3,M3] + 3365*x[W3,M4] + 298*x[W3,M5] + 3021*x[W3,M6] + 1484*x[W3,M7] + 4803*x[W3,M8] + 2143*x[W4,M1] + 671*x[W4,M2] + 3876*x[W4,M3] + 537*x[W4,M4] + 1902*x[W4,M5] + 1941*x[W4,M6] + 1682*x[W4,M7] + 3348*x[W4,M8] + 2742*x[W5,M1] + 2089*x[W5,M2] + 1931*x[W5,M3] + 2199*x[W5,M4] + 1226*x[W5,M5] + 739*x[W5,M6] + 691*x[W5,M7] + 1128*x[W5,M8] + 2053*x[W6,M1] + 860*x[W6,M2] + 2995*x[W6,M3] + 68*x[W6,M4] + 2069*x[W6,M5] + 2065*x[W6,M6] + 993*x[W6,M7] + 3342*x[W6,M8] + 656*x[W7,M1] + 817*x[W7,M2] + 1245*x[W7,M3] + 2141*x[W7,M4] + 1534*x[W7,M5] + 3351*x[W7,M6] + 1137*x[W7,M7] + 3887*x[W7,M8] + 195*x[W8,M1] + 1862*x[W8,M2] + 1331*x[W8,M3] + 2921*x[W8,M4] + 402*x[W8,M5] + 2825*x[W8,M6] + 563*x[W8,M7] + 4441*x[W8,M8]\n",
            "\n",
            "2 Constraint Declarations\n",
            "    demand_constraint : Size=8, Index=demand_constraint_index, Active=True\n",
            "        Key : Lower : Body                                                                                  : Upper : Active\n",
            "          1 : 175.0 : x[W1,M1] + x[W2,M1] + x[W3,M1] + x[W4,M1] + x[W5,M1] + x[W6,M1] + x[W7,M1] + x[W8,M1] :  +Inf :   True\n",
            "          2 : 400.0 : x[W1,M2] + x[W2,M2] + x[W3,M2] + x[W4,M2] + x[W5,M2] + x[W6,M2] + x[W7,M2] + x[W8,M2] :  +Inf :   True\n",
            "          3 : 550.0 : x[W1,M3] + x[W2,M3] + x[W3,M3] + x[W4,M3] + x[W5,M3] + x[W6,M3] + x[W7,M3] + x[W8,M3] :  +Inf :   True\n",
            "          4 :  70.0 : x[W1,M4] + x[W2,M4] + x[W3,M4] + x[W4,M4] + x[W5,M4] + x[W6,M4] + x[W7,M4] + x[W8,M4] :  +Inf :   True\n",
            "          5 : 650.0 : x[W1,M5] + x[W2,M5] + x[W3,M5] + x[W4,M5] + x[W5,M5] + x[W6,M5] + x[W7,M5] + x[W8,M5] :  +Inf :   True\n",
            "          6 : 100.0 : x[W1,M6] + x[W2,M6] + x[W3,M6] + x[W4,M6] + x[W5,M6] + x[W6,M6] + x[W7,M6] + x[W8,M6] :  +Inf :   True\n",
            "          7 :  65.0 : x[W1,M7] + x[W2,M7] + x[W3,M7] + x[W4,M7] + x[W5,M7] + x[W6,M7] + x[W7,M7] + x[W8,M7] :  +Inf :   True\n",
            "          8 :  85.0 : x[W1,M8] + x[W2,M8] + x[W3,M8] + x[W4,M8] + x[W5,M8] + x[W6,M8] + x[W7,M8] + x[W8,M8] :  +Inf :   True\n",
            "    inventory_constraint : Size=8, Index=inventory_constraint_index, Active=True\n",
            "        Key : Lower : Body                                                                                  : Upper : Active\n",
            "          1 :  -Inf : x[W1,M1] + x[W1,M2] + x[W1,M3] + x[W1,M4] + x[W1,M5] + x[W1,M6] + x[W1,M7] + x[W1,M8] : 185.0 :   True\n",
            "          2 :  -Inf : x[W2,M1] + x[W2,M2] + x[W2,M3] + x[W2,M4] + x[W2,M5] + x[W2,M6] + x[W2,M7] + x[W2,M8] : 350.0 :   True\n",
            "          3 :  -Inf : x[W3,M1] + x[W3,M2] + x[W3,M3] + x[W3,M4] + x[W3,M5] + x[W3,M6] + x[W3,M7] + x[W3,M8] : 405.0 :   True\n",
            "          4 :  -Inf : x[W4,M1] + x[W4,M2] + x[W4,M3] + x[W4,M4] + x[W4,M5] + x[W4,M6] + x[W4,M7] + x[W4,M8] : 280.0 :   True\n",
            "          5 :  -Inf : x[W5,M1] + x[W5,M2] + x[W5,M3] + x[W5,M4] + x[W5,M5] + x[W5,M6] + x[W5,M7] + x[W5,M8] : 105.0 :   True\n",
            "          6 :  -Inf : x[W6,M1] + x[W6,M2] + x[W6,M3] + x[W6,M4] + x[W6,M5] + x[W6,M6] + x[W6,M7] + x[W6,M8] :  75.0 :   True\n",
            "          7 :  -Inf : x[W7,M1] + x[W7,M2] + x[W7,M3] + x[W7,M4] + x[W7,M5] + x[W7,M6] + x[W7,M7] + x[W7,M8] : 425.0 :   True\n",
            "          8 :  -Inf : x[W8,M1] + x[W8,M2] + x[W8,M3] + x[W8,M4] + x[W8,M5] + x[W8,M6] + x[W8,M7] + x[W8,M8] : 270.0 :   True\n",
            "\n",
            "9 Declarations: x_index_0 x_index_1 x_index x total_cost demand_constraint_index demand_constraint inventory_constraint_index inventory_constraint\n"
          ]
        }
      ]
    },
    {
      "cell_type": "code",
      "source": [
        "!apt-get install -y -qq coinor-cbc"
      ],
      "metadata": {
        "id": "3tvPQioOsHgY"
      },
      "execution_count": null,
      "outputs": []
    },
    {
      "cell_type": "code",
      "source": [
        "# Solve\n",
        "SolverFactory('cbc').solve(model)\n",
        "\n",
        "# Display results\n",
        "print(\"Number of SKUs Transported:\")\n",
        "for i in warehouses:\n",
        "    for j in markets:\n",
        "        if model.x[i, j].value != 0:\n",
        "            print(f\"{i} to {j}: {model.x[i, j].value}\")\n",
        "\n",
        "print(\"\\nTotal Cost of Transportation: $\", model.total_cost())"
      ],
      "metadata": {
        "colab": {
          "base_uri": "https://localhost:8080/"
        },
        "id": "zOVV7MuGsN9m",
        "outputId": "ca93db1f-4f00-4f74-cfdf-a87f80f63288"
      },
      "execution_count": null,
      "outputs": [
        {
          "output_type": "stream",
          "name": "stdout",
          "text": [
            "Number of SKUs Transported:\n",
            "W1 to M2: 185.0\n",
            "W2 to M5: 350.0\n",
            "W3 to M3: 375.0\n",
            "W3 to M5: 30.0\n",
            "W4 to M2: 200.0\n",
            "W4 to M6: 80.0\n",
            "W5 to M6: 20.0\n",
            "W5 to M8: 85.0\n",
            "W6 to M4: 70.0\n",
            "W6 to M7: 5.0\n",
            "W7 to M1: 175.0\n",
            "W7 to M2: 15.0\n",
            "W7 to M3: 175.0\n",
            "W7 to M7: 60.0\n",
            "W8 to M5: 270.0\n",
            "\n",
            "Total Cost of Transportation: $ 1166465.0\n"
          ]
        }
      ]
    },
    {
      "cell_type": "code",
      "source": [
        "#Task 3\n",
        "\n",
        "# Model\n",
        "model1 = ConcreteModel()\n",
        "\n",
        "# Decision variables\n",
        "model1.x = Var(warehouses, markets, domain=NonNegativeIntegers)\n",
        "\n",
        "# Objective\n",
        "model1.total_cost = Objective(expr=sum(cost[i, j] * model1.x[i, j] for i in warehouses for j in markets), sense=minimize)\n",
        "\n",
        "# Constraints (modified to account for the disrupted link)\n",
        "model1.demand_constraint = ConstraintList()\n",
        "for j in markets:\n",
        "    if j != 'M1':  # For all markets except M1\n",
        "        model1.demand_constraint.add(sum(model1.x[i, j] for i in warehouses) >= demand[j])\n",
        "\n",
        "model1.inventory_constraint = ConstraintList()\n",
        "for i in warehouses:\n",
        "    model1.inventory_constraint.add(sum(model1.x[i, j] for j in markets) <= inventory[i])\n",
        "\n",
        "# Additional constraint for disrupted link\n",
        "model1.disrupted_link_constraint = Constraint(expr=model1.x['W2', 'M1'] == 0)\n",
        "\n",
        "# Solve\n",
        "SolverFactory('cbc').solve(model1)\n",
        "\n",
        "# Display results\n",
        "print(\"Number of SKUs Transported:\")\n",
        "for i in warehouses:\n",
        "    for j in markets:\n",
        "        if model1.x[i, j].value != 0:\n",
        "            print(f\"{i} to {j}: {model1.x[i, j].value}\")\n",
        "\n",
        "print(\"\\nTotal Cost of Transportation: $\", model1.total_cost())\n"
      ],
      "metadata": {
        "colab": {
          "base_uri": "https://localhost:8080/"
        },
        "id": "Pvdfen2Kt681",
        "outputId": "8d3a9658-8421-4ae0-ed9d-9d655c12ff85"
      },
      "execution_count": null,
      "outputs": [
        {
          "output_type": "stream",
          "name": "stdout",
          "text": [
            "Number of SKUs Transported:\n",
            "W1 to M2: 185.0\n",
            "W2 to M5: 350.0\n",
            "W3 to M3: 375.0\n",
            "W3 to M5: 30.0\n",
            "W4 to M2: 200.0\n",
            "W4 to M6: 80.0\n",
            "W5 to M6: 20.0\n",
            "W5 to M8: 85.0\n",
            "W6 to M4: 70.0\n",
            "W6 to M7: 5.0\n",
            "W7 to M2: 15.0\n",
            "W7 to M3: 175.0\n",
            "W7 to M7: 60.0\n",
            "W8 to M5: 270.0\n",
            "\n",
            "Total Cost of Transportation: $ 1051665.0\n"
          ]
        }
      ]
    },
    {
      "cell_type": "code",
      "source": [
        "#Task 4\n",
        "\n",
        "for j in markets:\n",
        "    if j != 'M1':  # For all markets except M1\n",
        "        model1.demand_constraint.add(sum(model1.x[i, j] for i in warehouses) >= demand[j])\n",
        "    if j != 'M4':  # For all markets except M4\n",
        "      model1.demand_constraint.add(sum(model1.x[i, j] for i in warehouses) >= demand[j])\n",
        "    if j != 'M8':  # For all markets except M8\n",
        "      model1.demand_constraint.add(sum(model1.x[i, j] for i in warehouses) >= demand[j])\n",
        "\n",
        "# Additional constraint for disrupted link\n",
        "model1.disrupted_link_constraint_1 = Constraint(expr=model.x['W2', 'M1'] == 0)\n",
        "model1.disrupted_link_constraint_2 = Constraint(expr=model.x['W6', 'M4'] == 0)\n",
        "model1.disrupted_link_constraint_3 = Constraint(expr=model.x['W5', 'M8'] == 0)\n",
        "\n",
        "\n",
        "# Solve\n",
        "SolverFactory('cbc').solve(model1)\n",
        "\n",
        "# Display results\n",
        "print(\"Number of SKUs Transported:\")\n",
        "for i in warehouses:\n",
        "    for j in markets:\n",
        "        if model1.x[i, j].value != 0:\n",
        "            print(f\"{i} to {j}: {model1.x[i, j].value}\")\n",
        "\n",
        "print(\"\\nTotal Cost of Transportation: $\", model1.total_cost())\n"
      ],
      "metadata": {
        "colab": {
          "base_uri": "https://localhost:8080/"
        },
        "id": "gZ0b4Hc9yH_o",
        "outputId": "5473f02a-e4b4-4909-bf3a-e623a7510aad"
      },
      "execution_count": null,
      "outputs": [
        {
          "output_type": "stream",
          "name": "stderr",
          "text": [
            "WARNING:pyomo.core:Implicitly replacing the Component attribute disrupted_link_constraint_1 (type=<class 'pyomo.core.base.constraint.ScalarConstraint'>) on block unknown with a new Component (type=<class 'pyomo.core.base.constraint.AbstractScalarConstraint'>).\n",
            "This is usually indicative of a modelling error.\n",
            "To avoid this warning, use block.del_component() and block.add_component().\n",
            "WARNING:pyomo.core:Implicitly replacing the Component attribute disrupted_link_constraint_2 (type=<class 'pyomo.core.base.constraint.ScalarConstraint'>) on block unknown with a new Component (type=<class 'pyomo.core.base.constraint.AbstractScalarConstraint'>).\n",
            "This is usually indicative of a modelling error.\n",
            "To avoid this warning, use block.del_component() and block.add_component().\n",
            "WARNING:pyomo.core:Implicitly replacing the Component attribute disrupted_link_constraint_3 (type=<class 'pyomo.core.base.constraint.ScalarConstraint'>) on block unknown with a new Component (type=<class 'pyomo.core.base.constraint.AbstractScalarConstraint'>).\n",
            "This is usually indicative of a modelling error.\n",
            "To avoid this warning, use block.del_component() and block.add_component().\n"
          ]
        },
        {
          "output_type": "stream",
          "name": "stdout",
          "text": [
            "Number of SKUs Transported:\n",
            "W1 to M2: 185.0\n",
            "W2 to M5: 350.0\n",
            "W3 to M3: 375.0\n",
            "W3 to M5: 30.0\n",
            "W4 to M2: 200.0\n",
            "W4 to M6: 80.0\n",
            "W5 to M6: 20.0\n",
            "W5 to M8: 85.0\n",
            "W6 to M4: 70.0\n",
            "W6 to M7: 5.0\n",
            "W7 to M1: 175.0\n",
            "W7 to M2: 15.0\n",
            "W7 to M3: 175.0\n",
            "W7 to M7: 60.0\n",
            "W8 to M5: 270.0\n",
            "\n",
            "Total Cost of Transportation: $ 1166465.0\n"
          ]
        }
      ]
    }
  ]
}